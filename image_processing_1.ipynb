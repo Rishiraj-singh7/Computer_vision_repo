{
 "cells": [
  {
   "cell_type": "markdown",
   "metadata": {},
   "source": [
    "### What is an Image?\n",
    "An image is a two-dimensional array of pixel values where each pixel represents the color information at a specific point. Images can be grayscale (where each pixel is a shade of gray) or color images, where each pixel is represented by three or four values corresponding to the primary color channels (e.g., RGB).\n",
    "\n",
    "* Digital Image: Stored as a matrix of pixel values.\n",
    "* Color Image: Each pixel is represented by a tuple (e.g., (255, 0, 0) for red in RGB)."
   ]
  },
  {
   "cell_type": "code",
   "execution_count": 1,
   "metadata": {},
   "outputs": [],
   "source": [
    "from PIL import Image"
   ]
  },
  {
   "cell_type": "markdown",
   "metadata": {},
   "source": [
    "### Creating RGB image with PIL"
   ]
  },
  {
   "cell_type": "code",
   "execution_count": 2,
   "metadata": {},
   "outputs": [],
   "source": [
    "# Create image with orange color\n",
    "image = Image.new(\"RGB\",(100,100),(255,100,0))"
   ]
  },
  {
   "cell_type": "code",
   "execution_count": 3,
   "metadata": {},
   "outputs": [
    {
     "name": "stdout",
     "output_type": "stream",
     "text": [
      "<class 'PIL.Image.Image'>\n",
      "(100, 100)\n",
      "RGB\n",
      "('R', 'G', 'B')\n"
     ]
    }
   ],
   "source": [
    "print(type(image))\n",
    "\n",
    "print(image.size)\n",
    "\n",
    "print(image.mode)\n",
    "\n",
    "print(image.getbands())"
   ]
  },
  {
   "cell_type": "code",
   "execution_count": 4,
   "metadata": {},
   "outputs": [],
   "source": [
    "image.show()"
   ]
  },
  {
   "cell_type": "markdown",
   "metadata": {},
   "source": [
    "\n",
    "### Creating B/W or gray-scale image with PIL"
   ]
  },
  {
   "cell_type": "code",
   "execution_count": 5,
   "metadata": {},
   "outputs": [],
   "source": [
    "# Create image with orange color\n",
    "image_bw = Image.new(\"L\",(100,100),(100))"
   ]
  },
  {
   "cell_type": "code",
   "execution_count": 6,
   "metadata": {},
   "outputs": [
    {
     "name": "stdout",
     "output_type": "stream",
     "text": [
      "<class 'PIL.Image.Image'>\n",
      "(100, 100)\n",
      "L\n",
      "('L',)\n"
     ]
    }
   ],
   "source": [
    "print(type(image_bw))\n",
    "\n",
    "print(image_bw.size)\n",
    "\n",
    "print(image_bw.mode)\n",
    "\n",
    "print(image_bw.getbands())"
   ]
  },
  {
   "cell_type": "code",
   "execution_count": 7,
   "metadata": {},
   "outputs": [],
   "source": [
    "\n",
    "image_bw.show()"
   ]
  },
  {
   "cell_type": "code",
   "execution_count": 8,
   "metadata": {},
   "outputs": [],
   "source": [
    "## Pillow = RGB   (250, 100 ,0)\n",
    "## Open cv = BGR  (0, 100, 250)|"
   ]
  },
  {
   "cell_type": "code",
   "execution_count": 9,
   "metadata": {},
   "outputs": [],
   "source": [
    "import numpy as np\n",
    "import cv2"
   ]
  },
  {
   "cell_type": "code",
   "execution_count": 10,
   "metadata": {},
   "outputs": [],
   "source": [
    "# Create a blank image with black pixels\n",
    "image_opencv = np.zeros((500,500,3), np.uint8)"
   ]
  },
  {
   "cell_type": "code",
   "execution_count": 11,
   "metadata": {},
   "outputs": [],
   "source": [
    "\n",
    "# Fill the image with orange color (BGR values)\n",
    "image_opencv[:] = (0,100,255)"
   ]
  },
  {
   "cell_type": "code",
   "execution_count": 12,
   "metadata": {},
   "outputs": [
    {
     "name": "stdout",
     "output_type": "stream",
     "text": [
      "(500, 500, 3)\n",
      "500\n"
     ]
    }
   ],
   "source": [
    "\n",
    "print(image_opencv.shape)\n",
    "\n",
    "print(len(image_opencv))"
   ]
  },
  {
   "cell_type": "code",
   "execution_count": 13,
   "metadata": {},
   "outputs": [],
   "source": [
    "# Display the image\n",
    "cv2.imshow('Orange Image', image_opencv)\n",
    "cv2.waitKey(0)\n",
    "cv2.destroyAllWindows()"
   ]
  },
  {
   "cell_type": "markdown",
   "metadata": {},
   "source": [
    "###  Creating BW image with Numpy and OpenCV"
   ]
  },
  {
   "cell_type": "code",
   "execution_count": 14,
   "metadata": {},
   "outputs": [],
   "source": [
    "image_opencv_bw = np.zeros((500, 500, 1), np.uint8) \n",
    "image_opencv_bw[:] = (140)\n"
   ]
  },
  {
   "cell_type": "code",
   "execution_count": 15,
   "metadata": {},
   "outputs": [
    {
     "name": "stdout",
     "output_type": "stream",
     "text": [
      "(500, 500, 1)\n",
      "500\n"
     ]
    }
   ],
   "source": [
    "print(image_opencv_bw.shape)\n",
    "\n",
    "print(len(image_opencv_bw))"
   ]
  },
  {
   "cell_type": "code",
   "execution_count": 16,
   "metadata": {},
   "outputs": [],
   "source": [
    "\n",
    "# Display the image\n",
    "cv2.imshow('grey_scale Image', image_opencv_bw)\n",
    "cv2.waitKey(0)\n",
    "cv2.destroyAllWindows()"
   ]
  },
  {
   "cell_type": "markdown",
   "metadata": {},
   "source": [
    "\n",
    "### Creating RGBA Image PIL\n",
    "\n",
    "*  RGB: Red, Green, and Blue channels, with each pixel representing a combination of these three colors.\n",
    "\n",
    "*  RGBA: Adds an Alpha channel to RGB, representing transparency.\n",
    "\n",
    "*  Grayscale: A single channel representing shades of gray.\n",
    "\n",
    "*  CMYK: Used in printing (Cyan, Magenta, Yellow, Black)."
   ]
  },
  {
   "cell_type": "code",
   "execution_count": 17,
   "metadata": {},
   "outputs": [
    {
     "name": "stdout",
     "output_type": "stream",
     "text": [
      "(100, 100)\n",
      "RGBA\n",
      "('R', 'G', 'B', 'A')\n"
     ]
    }
   ],
   "source": [
    "image = Image.new(\"RGB\",(100,100),(250,100,0))\n",
    "image_rgba = image.convert(\"RGBA\")\n",
    "\n",
    "print(image_rgba.size)\n",
    "\n",
    "print(image_rgba.mode)\n",
    "\n",
    "print(image_rgba.getbands())\n",
    "\n",
    "image_rgba.show()"
   ]
  },
  {
   "cell_type": "markdown",
   "metadata": {},
   "source": [
    "#### Convert to RGB from BGR Image OpenCV"
   ]
  },
  {
   "cell_type": "code",
   "execution_count": null,
   "metadata": {},
   "outputs": [],
   "source": []
  }
 ],
 "metadata": {
  "kernelspec": {
   "display_name": "Python 3",
   "language": "python",
   "name": "python3"
  },
  "language_info": {
   "codemirror_mode": {
    "name": "ipython",
    "version": 3
   },
   "file_extension": ".py",
   "mimetype": "text/x-python",
   "name": "python",
   "nbconvert_exporter": "python",
   "pygments_lexer": "ipython3",
   "version": "3.10.0"
  }
 },
 "nbformat": 4,
 "nbformat_minor": 2
}
